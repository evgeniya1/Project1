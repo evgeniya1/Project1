{
 "cells": [
  {
   "cell_type": "code",
   "execution_count": 8,
   "metadata": {},
   "outputs": [
    {
     "name": "stdout",
     "output_type": "stream",
     "text": [
      "Dataset size before filtering zero budget and revenue:  (262460, 13)\n",
      "Dataset size before filtering zero budget and revenue:  (99991, 13)\n",
      "Dataset size after filtering zero budget and revenue:  (5390, 13)\n"
     ]
    }
   ],
   "source": [
    "#import necessary libraries\n",
    "import pandas as pd\n",
    "import numpy as np\n",
    "\n",
    "#define necessary functions\n",
    "\n",
    "#filter 0 budget and 0 revenue data\n",
    "def filter_budget(df):\n",
    "    return df[(df.budget!=0) & (df.revenue!=0)]\n",
    "\n",
    "#read data from collected chunks\n",
    "def read_chunks(chunks,folder):\n",
    "    dfs = []\n",
    "    #collect data from the chunks \n",
    "    for chunk in chunks:\n",
    "        dfs.append(pd.read_csv('{}/moviesdb_chunk_{}.csv'\n",
    "                               .format(folder,chunk),index_col=0))\n",
    "    #concatenate dataframes\n",
    "    df = pd.concat(dfs,sort=False)\n",
    "    #drop duplicates\n",
    "    df.drop_duplicates(inplace=True)\n",
    "    #filter 0 budget and 0 revenue data  \n",
    "    print('Dataset size before filtering zero budget and revenue: ',df.shape)\n",
    "    return filter_budget(df)\n",
    "\n",
    "#read data with 1000 chunks\n",
    "chunks = np.concatenate((range(1,69), range(151,277), \n",
    "                         range(301,401)), axis=None)\n",
    "df_1000 = read_chunks(chunks,'data_1000')\n",
    "\n",
    "#read data with 1000 chunks\n",
    "chunks = range(1,11)\n",
    "df_10000 = read_chunks(chunks,'data_10000')\n",
    "\n",
    "#concatenate dataframes and drop duplicates\n",
    "df = pd.concat([df_1000,df_10000],sort=False)\n",
    "\n",
    "#select a subset of columns to search for duplicates\n",
    "columns = ['title','budget','revenue','genres','runtime']\n",
    "df.drop_duplicates(columns,inplace=True)\n",
    "\n",
    "#write new csv with collected and filtered data\n",
    "df.to_csv('final_movie_data.csv')\n",
    "\n",
    "print('Dataset size after filtering zero budget and revenue: ',df.shape)"
   ]
  }
 ],
 "metadata": {
  "kernelspec": {
   "display_name": "Python [conda env:learn-env] *",
   "language": "python",
   "name": "conda-env-learn-env-py"
  },
  "language_info": {
   "codemirror_mode": {
    "name": "ipython",
    "version": 3
   },
   "file_extension": ".py",
   "mimetype": "text/x-python",
   "name": "python",
   "nbconvert_exporter": "python",
   "pygments_lexer": "ipython3",
   "version": "3.6.6"
  }
 },
 "nbformat": 4,
 "nbformat_minor": 2
}
