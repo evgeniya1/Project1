{
 "cells": [
  {
   "cell_type": "code",
   "execution_count": null,
   "metadata": {},
   "outputs": [],
   "source": [
    "#import necessary libraries\n",
    "import pandas as pd\n",
    "import numpy as np\n",
    "import time\n",
    "import json\n",
    "import requests\n",
    "import functions_to_collect_data as util\n",
    "\n",
    "################Input parameters########################\n",
    "#enter your name, e.g. Mulbah, Zach, Evgeniya\n",
    "##################\n",
    "name = 'Mulbah'\n",
    "##################\n",
    "\n",
    "#key path\n",
    "path = '/Users/mulbahkallen/.secret/themoviedb_api.json'\n",
    "#get the api key\n",
    "api_key = util.get_keys(path)['api_key']\n",
    "\n",
    "#read today's movis ids\n",
    "#download it from http://files.tmdb.org/p/exports/movie_ids_07_31_2019.json.gz\n",
    "movie_ids = []\n",
    "for line in open('/Users/mulbahkallen/Desktop/Flatiron_Course_Material/movie_ids_07_31_2019.json', 'r'):\n",
    "    movie_ids.append(json.loads(line)['id'])\n",
    "\n",
    "#read parameters\n",
    "chunk_size = 1000\n",
    "num_chunks = 150\n",
    "start_chunk = 1 if name == 'Mulbah' else \\\n",
    "                151 if name == 'Zach' \\\n",
    "                else 301\n",
    "\n",
    "start_chunk = 69\n",
    "\n",
    "#run function to collect the data\n",
    "util.collect_data_moviedb(api_key, movie_ids\n",
    "                         ,chunk_size\n",
    "                         ,num_chunks\n",
    "                         ,start_chunk\n",
    "                         ,data_folder = 'data_' + name)"
   ]
  },
  {
   "cell_type": "code",
   "execution_count": null,
   "metadata": {},
   "outputs": [],
   "source": []
  },
  {
   "cell_type": "code",
   "execution_count": null,
   "metadata": {},
   "outputs": [],
   "source": []
  }
 ],
 "metadata": {
  "kernelspec": {
   "display_name": "Python [conda env:learn-env] *",
   "language": "python",
   "name": "conda-env-learn-env-py"
  }
 },
 "nbformat": 4,
 "nbformat_minor": 2
}
