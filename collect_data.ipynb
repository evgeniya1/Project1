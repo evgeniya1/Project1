{
 "cells": [
  {
   "cell_type": "code",
   "execution_count": 37,
   "metadata": {},
   "outputs": [],
   "source": [
    "#import necessary libraries\n",
    "import pandas as pd\n",
    "import numpy as np\n",
    "import time\n",
    "import json\n",
    "import requests\n",
    "import functions_to_collect_data as util\n",
    "\n",
    "################Input parameters########################\n",
    "#enter your name, e.g. Mulbah, Zach, Evgeniya\n",
    "##################\n",
    "name = 'Evgeniya'\n",
    "##################\n",
    "\n",
    "#key path\n",
    "if name == 'Mulbah':\n",
    "    path = '/Users/mulbahkallen/.secret/themoviedb_api.json'\n",
    "    path_movie_ids = '/Users/mulbahkallen/Desktop/Flatiron_Course_Material/movie_ids_07_31_2019.json'\n",
    "elif name == 'Zach':\n",
    "    path = \"../themoviedb_api.json\"\n",
    "    path_movie_ids = \"../movie_ids_07_31_2019.json\"\n",
    "else:\n",
    "    path = '/Users/Evgeniya/.secret/themoviedb_api.json'\n",
    "    path_movie_ids = '/Users/Evgeniya/Desktop/Group_projects/project_mod1/data/movie_ids_07_31_2019.json'\n",
    "\n",
    "#get the api key\n",
    "api_key = util.get_keys(path)['api_key']\n",
    "\n",
    "#read today's movis ids\n",
    "#download it from http://files.tmdb.org/p/exports/movie_ids_07_31_2019.json.gz\n",
    "movie_ids = []\n",
    "for line in open(path_movie_ids, 'r', encoding=\"utf8\"):\n",
    "    movie_ids.append(json.loads(line)['id'])\n",
    "\n",
    "#read parameters\n",
    "chunk_size = 1000\n",
    "num_chunks = 150\n",
    "start_chunk = 1 if name == 'Mulbah' else \\\n",
    "                151 if name == 'Zach' \\\n",
    "                else 301\n",
    "\n",
    "#when restarting: change the chunk number\n",
    "#start_chunk = 348\n",
    "\n",
    "#run function to collect the data\n",
    "util.collect_data_moviedb(api_key, movie_ids\n",
    "                         ,chunk_size\n",
    "                         ,num_chunks\n",
    "                         ,start_chunk\n",
    "                         ,data_folder = 'data_' + name)"
   ]
  },
  {
   "cell_type": "code",
   "execution_count": null,
   "metadata": {},
   "outputs": [],
   "source": []
  }
 ],
 "metadata": {
  "kernelspec": {
   "display_name": "Python [conda env:learn-env] *",
   "language": "python",
   "name": "conda-env-learn-env-py"
  },
  "language_info": {
   "codemirror_mode": {
    "name": "ipython",
    "version": 3
   },
   "file_extension": ".py",
   "mimetype": "text/x-python",
   "name": "python",
   "nbconvert_exporter": "python",
   "pygments_lexer": "ipython3",
   "version": "3.6.6"
  }
 },
 "nbformat": 4,
 "nbformat_minor": 4
}
